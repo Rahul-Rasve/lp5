{
 "cells": [
  {
   "cell_type": "code",
   "execution_count": null,
   "id": "6f3e0f0d-ea46-4820-9e22-4cd55bd05b2e",
   "metadata": {},
   "outputs": [],
   "source": [
    "#Import Module & Libraries\n",
    "import tensorflow as tf\n",
    "from tensorflow import keras\n",
    "import numpy as np\n",
    "import matplotlib.pyplot as plt"
   ]
  },
  {
   "cell_type": "code",
   "execution_count": null,
   "id": "0b9c5f02-ca1b-435e-83ce-fe6492deaf6d",
   "metadata": {},
   "outputs": [],
   "source": [
    "#Load the dataset\n",
    "fashion_mnist = keras.datasets.fashion_mnist\n",
    "(train_images, train_labels), (test_images, test_labels) = fashion_mnist.load_data()"
   ]
  },
  {
   "cell_type": "code",
   "execution_count": null,
   "id": "85f0f950-4a10-45b6-8367-aedc11a79474",
   "metadata": {},
   "outputs": [],
   "source": [
    "#Normalize the dataset\n",
    "train_images = train_images / 255.0\n",
    "test_images = test_images / 255.0"
   ]
  },
  {
   "cell_type": "code",
   "execution_count": null,
   "id": "a05325b7-a059-4c2a-b9a0-1fc13d63f3f2",
   "metadata": {},
   "outputs": [],
   "source": [
    "#Define the model\n",
    "model = keras.Sequential([\n",
    "keras.layers.Flatten(input_shape=(28, 28)),\n",
    "keras.layers.Dense(128, activation='relu'),\n",
    "keras.layers.Dense(10, activation='softmax')\n",
    "])"
   ]
  },
  {
   "cell_type": "code",
   "execution_count": null,
   "id": "9de517a7-a058-4241-9646-82b77c3aa2f8",
   "metadata": {},
   "outputs": [],
   "source": [
    "#Compile Model\n",
    "model.compile(optimizer='adam',\n",
    "loss='sparse_categorical_crossentropy',\n",
    "metrics=['accuracy'])"
   ]
  },
  {
   "cell_type": "code",
   "execution_count": null,
   "id": "b6e71027-f33c-494b-b423-2ad04de1066b",
   "metadata": {},
   "outputs": [],
   "source": [
    "#Train the model\n",
    "model.fit(train_images, train_labels, epochs=10)"
   ]
  },
  {
   "cell_type": "code",
   "execution_count": null,
   "id": "56e9e17f-02c4-4f72-8b91-5804b8b049ae",
   "metadata": {},
   "outputs": [],
   "source": [
    "#Evaluate the model\n",
    "test_loss, test_acc = model.evaluate(test_images, test_labels)\n",
    "print('Test accuracy:', test_acc)"
   ]
  },
  {
   "cell_type": "code",
   "execution_count": null,
   "id": "8a1fddc2-bd2f-448a-a7c4-6df38149899b",
   "metadata": {},
   "outputs": [],
   "source": [
    "#Make PRedictions\n",
    "predictions = model.predict(test_images)\n",
    "predicted_labels = np.argmax(predictions, axis=1)"
   ]
  },
  {
   "cell_type": "code",
   "execution_count": null,
   "id": "a0d4b6f4-22bd-4de9-992d-ca60e390afe5",
   "metadata": {},
   "outputs": [],
   "source": [
    "num_rows = 5\n",
    "num_cols = 5\n",
    "num_images = num_rows * num_cols\n",
    "plt.figure(figsize=(2 * 2 * num_cols, 2 * num_rows))\n",
    "for i in range(num_images):\n",
    "    plt.subplot(num_rows, 2 * num_cols, 2 * i + 1)\n",
    "    plt.imshow(test_images[i], cmap='gray')\n",
    "    plt.axis('off')\n",
    "    \n",
    "    plt.subplot(num_rows, 2 * num_cols, 2 * i + 2)\n",
    "    plt.bar(range(10), predictions[i])\n",
    "    plt.xticks(range(10))\n",
    "    plt.ylim([0, 1])\n",
    "    plt.title(f\"Predicted label: {predicted_labels[i]}\")\n",
    "    plt.tight_layout()\n",
    "    \n",
    "plt.show()"
   ]
  },
  {
   "cell_type": "code",
   "execution_count": null,
   "id": "b813d63f-2760-43ad-923a-3c548b24b086",
   "metadata": {},
   "outputs": [],
   "source": []
  }
 ],
 "metadata": {
  "kernelspec": {
   "display_name": "Python 3 (ipykernel)",
   "language": "python",
   "name": "python3"
  },
  "language_info": {
   "codemirror_mode": {
    "name": "ipython",
    "version": 3
   },
   "file_extension": ".py",
   "mimetype": "text/x-python",
   "name": "python",
   "nbconvert_exporter": "python",
   "pygments_lexer": "ipython3",
   "version": "3.11.3"
  }
 },
 "nbformat": 4,
 "nbformat_minor": 5
}
